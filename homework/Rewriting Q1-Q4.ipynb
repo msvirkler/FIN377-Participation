{
 "cells": [
  {
   "cell_type": "code",
   "execution_count": null,
   "metadata": {},
   "outputs": [],
   "source": [
    "import pandas as pd\n",
    "import requests\n",
    "from requests_html import HTMLSession #HTMLSession() is 'requests'\n",
    "\n",
    "#Open Page\n",
    "session = HTMLSession()\n",
    "url = 'https://en.wikipedia.org/wiki/List_of_S%26P_500_companies'\n",
    "r = session.get(url)\n",
    "\n",
    "#Find Links\n",
    "r.html.absolute_links\n",
    "table = r.html.find('#constituents')[0]\n",
    "table_rows = table.find('tr')[1:]\n",
    "colinks = []\n",
    "for row in table_rows:\n",
    "    a_url = list(row.find('td')[1].absolute_links)[0]\n",
    "    colinks.append(a_url)"
   ]
  }
 ],
 "metadata": {
  "kernelspec": {
   "display_name": "Python 3",
   "language": "python",
   "name": "python3"
  },
  "language_info": {
   "codemirror_mode": {
    "name": "ipython",
    "version": 3
   },
   "file_extension": ".py",
   "mimetype": "text/x-python",
   "name": "python",
   "nbconvert_exporter": "python",
   "pygments_lexer": "ipython3",
   "version": "3.7.7"
  }
 },
 "nbformat": 4,
 "nbformat_minor": 4
}
