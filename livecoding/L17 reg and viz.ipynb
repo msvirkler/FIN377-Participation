{
 "cells": [
  {
   "cell_type": "code",
   "execution_count": 4,
   "metadata": {},
   "outputs": [],
   "source": [
    "# load some data to practice regressions\n",
    "import seaborn as sns\n",
    "import numpy as np\n",
    "diamonds = sns.load_dataset('diamonds')\n",
    "\n",
    "# this alteration is not strictly necessary to practice a regression\n",
    "# but we use this in livecoding\n",
    "diamonds2 = (diamonds.query('carat < 2.5')               # censor/remove outliers\n",
    "            .assign(lprice = np.log(diamonds['price']))  # log transform price\n",
    "            .assign(lcarat = np.log(diamonds['carat']))  # log transform carats\n",
    "            .assign(ideal = diamonds['cut'] == 'Ideal') \n",
    "             \n",
    "             # some regression packages want you to explicitly provide \n",
    "             # a variable for the constant\n",
    "            .assign(const = 1)                           \n",
    "            )  "
   ]
  },
  {
   "cell_type": "code",
   "execution_count": 11,
   "metadata": {},
   "outputs": [
    {
     "name": "stdout",
     "output_type": "stream",
     "text": [
      "                            OLS Regression Results                            \n",
      "==============================================================================\n",
      "Dep. Variable:                 lprice   R-squared:                       0.933\n",
      "Model:                            OLS   Adj. R-squared:                  0.933\n",
      "Method:                 Least Squares   F-statistic:                 7.542e+05\n",
      "Date:                Tue, 24 Mar 2020   Prob (F-statistic):               0.00\n",
      "Time:                        15:48:06   Log-Likelihood:                -4073.2\n",
      "No. Observations:               53797   AIC:                             8150.\n",
      "Df Residuals:                   53795   BIC:                             8168.\n",
      "Df Model:                           1                                         \n",
      "Covariance Type:            nonrobust                                         \n",
      "==============================================================================\n",
      "                 coef    std err          t      P>|t|      [0.025      0.975]\n",
      "------------------------------------------------------------------------------\n",
      "const          8.4525      0.001   6193.432      0.000       8.450       8.455\n",
      "lcarat         1.6819      0.002    868.465      0.000       1.678       1.686\n",
      "==============================================================================\n",
      "Omnibus:                      775.052   Durbin-Watson:                   1.211\n",
      "Prob(Omnibus):                  0.000   Jarque-Bera (JB):             1334.265\n",
      "Skew:                           0.106   Prob(JB):                    1.85e-290\n",
      "Kurtosis:                       3.742   Cond. No.                         2.10\n",
      "==============================================================================\n",
      "\n",
      "Warnings:\n",
      "[1] Standard Errors assume that the covariance matrix of the errors is correctly specified.\n"
     ]
    },
    {
     "data": {
      "text/plain": [
       "<matplotlib.axes._subplots.AxesSubplot at 0x1a17017790>"
      ]
     },
     "execution_count": 11,
     "metadata": {},
     "output_type": "execute_result"
    },
    {
     "data": {
      "image/png": "[encoded data removed]",
      "text/plain": [
       "<Figure size 432x288 with 1 Axes>"
      ]
     },
     "metadata": {
      "needs_background": "light"
     },
     "output_type": "display_data"
    }
   ],
   "source": [
    "import statsmodels.api as sm  \n",
    "\n",
    "y = diamonds2['lprice']\n",
    "X = diamonds2[['const','lcarat']]\n",
    "\n",
    "model1 = sm.OLS(y,X)                # pick model type and specify model features\n",
    "results1 = model1.fit()             # estimate / fit\n",
    "print(results1.summary())           # view results \n",
    "\n",
    "\n",
    "diamonds2['lprice_predicted1'] = results1.predict()   # get the predicted results\n",
    "diamonds2['residuals1'] = results1.resid  # get the residuals\n",
    "#residuals1 = y - y_predicted1      # another way to get the residuals\n",
    "diamonds2['price_predicted1'] = np.exp(diamonds2['lprice_predicted1'])\n",
    "\n",
    "sns.scatterplot(data=diamonds2.sample(700), x='carat',y='price')\n",
    "sns.lineplot(data=diamonds2.sample(700), x='carat',y='price_predicted1',color='red')\n",
    "\n"
   ]
  },
  {
   "cell_type": "code",
   "execution_count": 9,
   "metadata": {},
   "outputs": [
    {
     "data": {
      "text/html": [
       "<div>\n",
       "<style scoped>\n",
       "    .dataframe tbody tr th:only-of-type {\n",
       "        vertical-align: middle;\n",
       "    }\n",
       "\n",
       "    .dataframe tbody tr th {\n",
       "        vertical-align: top;\n",
       "    }\n",
       "\n",
       "    .dataframe thead th {\n",
       "        text-align: right;\n",
       "    }\n",
       "</style>\n",
       "<table border=\"1\" class=\"dataframe\">\n",
       "  <thead>\n",
       "    <tr style=\"text-align: right;\">\n",
       "      <th></th>\n",
       "      <th>depth</th>\n",
       "      <th>table</th>\n",
       "      <th>price</th>\n",
       "      <th>x</th>\n",
       "      <th>y</th>\n",
       "      <th>z</th>\n",
       "    </tr>\n",
       "  </thead>\n",
       "  <tbody>\n",
       "    <tr>\n",
       "      <th>count</th>\n",
       "      <td>53940.000000</td>\n",
       "      <td>53940.000000</td>\n",
       "      <td>53940.000000</td>\n",
       "      <td>53940.000000</td>\n",
       "      <td>53940.000000</td>\n",
       "      <td>53940.000000</td>\n",
       "    </tr>\n",
       "    <tr>\n",
       "      <th>mean</th>\n",
       "      <td>61.749405</td>\n",
       "      <td>57.457184</td>\n",
       "      <td>3932.799722</td>\n",
       "      <td>5.731157</td>\n",
       "      <td>5.734526</td>\n",
       "      <td>3.538734</td>\n",
       "    </tr>\n",
       "    <tr>\n",
       "      <th>std</th>\n",
       "      <td>1.432621</td>\n",
       "      <td>2.234491</td>\n",
       "      <td>3989.439738</td>\n",
       "      <td>1.121761</td>\n",
       "      <td>1.142135</td>\n",
       "      <td>0.705699</td>\n",
       "    </tr>\n",
       "    <tr>\n",
       "      <th>min</th>\n",
       "      <td>43.000000</td>\n",
       "      <td>43.000000</td>\n",
       "      <td>326.000000</td>\n",
       "      <td>0.000000</td>\n",
       "      <td>0.000000</td>\n",
       "      <td>0.000000</td>\n",
       "    </tr>\n",
       "    <tr>\n",
       "      <th>25%</th>\n",
       "      <td>61.000000</td>\n",
       "      <td>56.000000</td>\n",
       "      <td>950.000000</td>\n",
       "      <td>4.710000</td>\n",
       "      <td>4.720000</td>\n",
       "      <td>2.910000</td>\n",
       "    </tr>\n",
       "    <tr>\n",
       "      <th>50%</th>\n",
       "      <td>61.800000</td>\n",
       "      <td>57.000000</td>\n",
       "      <td>2401.000000</td>\n",
       "      <td>5.700000</td>\n",
       "      <td>5.710000</td>\n",
       "      <td>3.530000</td>\n",
       "    </tr>\n",
       "    <tr>\n",
       "      <th>75%</th>\n",
       "      <td>62.500000</td>\n",
       "      <td>59.000000</td>\n",
       "      <td>5324.250000</td>\n",
       "      <td>6.540000</td>\n",
       "      <td>6.540000</td>\n",
       "      <td>4.040000</td>\n",
       "    </tr>\n",
       "    <tr>\n",
       "      <th>max</th>\n",
       "      <td>79.000000</td>\n",
       "      <td>95.000000</td>\n",
       "      <td>18823.000000</td>\n",
       "      <td>10.740000</td>\n",
       "      <td>58.900000</td>\n",
       "      <td>31.800000</td>\n",
       "    </tr>\n",
       "  </tbody>\n",
       "</table>\n",
       "</div>"
      ],
      "text/plain": [
       "              depth         table         price             x             y  \\\n",
       "count  53940.000000  53940.000000  53940.000000  53940.000000  53940.000000   \n",
       "mean      61.749405     57.457184   3932.799722      5.731157      5.734526   \n",
       "std        1.432621      2.234491   3989.439738      1.121761      1.142135   \n",
       "min       43.000000     43.000000    326.000000      0.000000      0.000000   \n",
       "25%       61.000000     56.000000    950.000000      4.710000      4.720000   \n",
       "50%       61.800000     57.000000   2401.000000      5.700000      5.710000   \n",
       "75%       62.500000     59.000000   5324.250000      6.540000      6.540000   \n",
       "max       79.000000     95.000000  18823.000000     10.740000     58.900000   \n",
       "\n",
       "                  z  \n",
       "count  53940.000000  \n",
       "mean       3.538734  \n",
       "std        0.705699  \n",
       "min        0.000000  \n",
       "25%        2.910000  \n",
       "50%        3.530000  \n",
       "75%        4.040000  \n",
       "max       31.800000  "
      ]
     },
     "execution_count": 9,
     "metadata": {},
     "output_type": "execute_result"
    },
    {
     "data": {
      "image/png": "[encoded data removed]",
      "text/plain": [
       "<Figure size 432x288 with 1 Axes>"
      ]
     },
     "metadata": {
      "needs_background": "light"
     },
     "output_type": "display_data"
    }
   ],
   "source": [
    "sns.scatterplot(data=diamonds2.sample(700),x='lcarat',y='residuals1')\n",
    "diamonds.iloc[:,-7:].describe()"
   ]
  },
  {
   "cell_type": "code",
   "execution_count": 13,
   "metadata": {},
   "outputs": [
    {
     "data": {
      "text/plain": [
       "<seaborn.axisgrid.FacetGrid at 0x1090ddbd0>"
      ]
     },
     "execution_count": 13,
     "metadata": {},
     "output_type": "execute_result"
    },
    {
     "data": {
      "image/png": "[encoded data removed]",
      "text/plain": [
       "<Figure size 360x360 with 1 Axes>"
      ]
     },
     "metadata": {
      "needs_background": "light"
     },
     "output_type": "display_data"
    }
   ],
   "source": [
    "sns.catplot(data=diamonds2,y='residuals1',x='cut',kind='box')"
   ]
  },
  {
   "cell_type": "markdown",
   "metadata": {},
   "source": [
    "# Prof's Fav Reg"
   ]
  },
  {
   "cell_type": "code",
   "execution_count": 14,
   "metadata": {},
   "outputs": [
    {
     "name": "stdout",
     "output_type": "stream",
     "text": [
      "                            OLS Regression Results                            \n",
      "==============================================================================\n",
      "Dep. Variable:                 lprice   R-squared:                       0.933\n",
      "Model:                            OLS   Adj. R-squared:                  0.933\n",
      "Method:                 Least Squares   F-statistic:                 7.542e+05\n",
      "Date:                Tue, 24 Mar 2020   Prob (F-statistic):               0.00\n",
      "Time:                        15:51:06   Log-Likelihood:                -4073.2\n",
      "No. Observations:               53797   AIC:                             8150.\n",
      "Df Residuals:                   53795   BIC:                             8168.\n",
      "Df Model:                           1                                         \n",
      "Covariance Type:            nonrobust                                         \n",
      "==============================================================================\n",
      "                 coef    std err          t      P>|t|      [0.025      0.975]\n",
      "------------------------------------------------------------------------------\n",
      "Intercept      8.4525      0.001   6193.432      0.000       8.450       8.455\n",
      "lcarat         1.6819      0.002    868.465      0.000       1.678       1.686\n",
      "==============================================================================\n",
      "Omnibus:                      775.052   Durbin-Watson:                   1.211\n",
      "Prob(Omnibus):                  0.000   Jarque-Bera (JB):             1334.265\n",
      "Skew:                           0.106   Prob(JB):                    1.85e-290\n",
      "Kurtosis:                       3.742   Cond. No.                         2.10\n",
      "==============================================================================\n",
      "\n",
      "Warnings:\n",
      "[1] Standard Errors assume that the covariance matrix of the errors is correctly specified.\n"
     ]
    }
   ],
   "source": [
    "from statsmodels.formula.api import ols as sm_ols\n",
    "\n",
    "model2   = sm_ols('lprice ~ lcarat',  # specify model (you don't need to include the constant!)\n",
    "                  data=diamonds2)\n",
    "results2 = model2.fit()               # estimate / fit\n",
    "print(results2.summary())             # view results ... identical to before\n",
    "\n",
    "# the prediction and residual and plotting are the exact same"
   ]
  },
  {
   "cell_type": "code",
   "execution_count": 21,
   "metadata": {},
   "outputs": [
    {
     "data": {
      "text/html": [
       "<table class=\"simpletable\">\n",
       "<caption>OLS Regression Results</caption>\n",
       "<tr>\n",
       "  <th>Dep. Variable:</th>         <td>lprice</td>      <th>  R-squared:         </th> <td>   0.934</td> \n",
       "</tr>\n",
       "<tr>\n",
       "  <th>Model:</th>                   <td>OLS</td>       <th>  Adj. R-squared:    </th> <td>   0.934</td> \n",
       "</tr>\n",
       "<tr>\n",
       "  <th>Method:</th>             <td>Least Squares</td>  <th>  F-statistic:       </th> <td>3.789e+05</td>\n",
       "</tr>\n",
       "<tr>\n",
       "  <th>Date:</th>             <td>Tue, 24 Mar 2020</td> <th>  Prob (F-statistic):</th>  <td>  0.00</td>  \n",
       "</tr>\n",
       "<tr>\n",
       "  <th>Time:</th>                 <td>15:59:29</td>     <th>  Log-Likelihood:    </th> <td> -3957.1</td> \n",
       "</tr>\n",
       "<tr>\n",
       "  <th>No. Observations:</th>      <td> 53797</td>      <th>  AIC:               </th> <td>   7920.</td> \n",
       "</tr>\n",
       "<tr>\n",
       "  <th>Df Residuals:</th>          <td> 53794</td>      <th>  BIC:               </th> <td>   7947.</td> \n",
       "</tr>\n",
       "<tr>\n",
       "  <th>Df Model:</th>              <td>     2</td>      <th>                     </th>     <td> </td>    \n",
       "</tr>\n",
       "<tr>\n",
       "  <th>Covariance Type:</th>      <td>nonrobust</td>    <th>                     </th>     <td> </td>    \n",
       "</tr>\n",
       "</table>\n",
       "<table class=\"simpletable\">\n",
       "<tr>\n",
       "      <td></td>         <th>coef</th>     <th>std err</th>      <th>t</th>      <th>P>|t|</th>  <th>[0.025</th>    <th>0.975]</th>  \n",
       "</tr>\n",
       "<tr>\n",
       "  <th>Intercept</th> <td>    7.7340</td> <td>    0.047</td> <td>  164.086</td> <td> 0.000</td> <td>    7.642</td> <td>    7.826</td>\n",
       "</tr>\n",
       "<tr>\n",
       "  <th>lcarat</th>    <td>    1.4719</td> <td>    0.014</td> <td>  105.852</td> <td> 0.000</td> <td>    1.445</td> <td>    1.499</td>\n",
       "</tr>\n",
       "<tr>\n",
       "  <th>x</th>         <td>    0.1109</td> <td>    0.007</td> <td>   15.250</td> <td> 0.000</td> <td>    0.097</td> <td>    0.125</td>\n",
       "</tr>\n",
       "</table>\n",
       "<table class=\"simpletable\">\n",
       "<tr>\n",
       "  <th>Omnibus:</th>       <td>861.522</td> <th>  Durbin-Watson:     </th> <td>   1.239</td>\n",
       "</tr>\n",
       "<tr>\n",
       "  <th>Prob(Omnibus):</th> <td> 0.000</td>  <th>  Jarque-Bera (JB):  </th> <td>1526.077</td>\n",
       "</tr>\n",
       "<tr>\n",
       "  <th>Skew:</th>          <td> 0.114</td>  <th>  Prob(JB):          </th> <td>    0.00</td>\n",
       "</tr>\n",
       "<tr>\n",
       "  <th>Kurtosis:</th>      <td> 3.793</td>  <th>  Cond. No.          </th> <td>    262.</td>\n",
       "</tr>\n",
       "</table><br/><br/>Warnings:<br/>[1] Standard Errors assume that the covariance matrix of the errors is correctly specified."
      ],
      "text/plain": [
       "<class 'statsmodels.iolib.summary.Summary'>\n",
       "\"\"\"\n",
       "                            OLS Regression Results                            \n",
       "==============================================================================\n",
       "Dep. Variable:                 lprice   R-squared:                       0.934\n",
       "Model:                            OLS   Adj. R-squared:                  0.934\n",
       "Method:                 Least Squares   F-statistic:                 3.789e+05\n",
       "Date:                Tue, 24 Mar 2020   Prob (F-statistic):               0.00\n",
       "Time:                        15:59:29   Log-Likelihood:                -3957.1\n",
       "No. Observations:               53797   AIC:                             7920.\n",
       "Df Residuals:                   53794   BIC:                             7947.\n",
       "Df Model:                           2                                         \n",
       "Covariance Type:            nonrobust                                         \n",
       "==============================================================================\n",
       "                 coef    std err          t      P>|t|      [0.025      0.975]\n",
       "------------------------------------------------------------------------------\n",
       "Intercept      7.7340      0.047    164.086      0.000       7.642       7.826\n",
       "lcarat         1.4719      0.014    105.852      0.000       1.445       1.499\n",
       "x              0.1109      0.007     15.250      0.000       0.097       0.125\n",
       "==============================================================================\n",
       "Omnibus:                      861.522   Durbin-Watson:                   1.239\n",
       "Prob(Omnibus):                  0.000   Jarque-Bera (JB):             1526.077\n",
       "Skew:                           0.114   Prob(JB):                         0.00\n",
       "Kurtosis:                       3.793   Cond. No.                         262.\n",
       "==============================================================================\n",
       "\n",
       "Warnings:\n",
       "[1] Standard Errors assume that the covariance matrix of the errors is correctly specified.\n",
       "\"\"\""
      ]
     },
     "execution_count": 21,
     "metadata": {},
     "output_type": "execute_result"
    }
   ],
   "source": [
    "sm_ols('lprice ~ lcarat + x',data=diamonds2).fit().summary()"
   ]
  },
  {
   "cell_type": "code",
   "execution_count": 23,
   "metadata": {},
   "outputs": [
    {
     "name": "stdout",
     "output_type": "stream",
     "text": [
      "117.0\n",
      "147.4\n"
     ]
    }
   ],
   "source": [
    "print(0.5*249-0.1*75)\n",
    "print(0.5*310-0.1*76)"
   ]
  },
  {
   "cell_type": "code",
   "execution_count": 25,
   "metadata": {},
   "outputs": [
    {
     "data": {
      "text/html": [
       "<table class=\"simpletable\">\n",
       "<caption>OLS Regression Results</caption>\n",
       "<tr>\n",
       "  <th>Dep. Variable:</th>         <td>lprice</td>      <th>  R-squared:         </th> <td>   0.936</td> \n",
       "</tr>\n",
       "<tr>\n",
       "  <th>Model:</th>                   <td>OLS</td>       <th>  Adj. R-squared:    </th> <td>   0.936</td> \n",
       "</tr>\n",
       "<tr>\n",
       "  <th>Method:</th>             <td>Least Squares</td>  <th>  F-statistic:       </th> <td>3.914e+05</td>\n",
       "</tr>\n",
       "<tr>\n",
       "  <th>Date:</th>             <td>Tue, 24 Mar 2020</td> <th>  Prob (F-statistic):</th>  <td>  0.00</td>  \n",
       "</tr>\n",
       "<tr>\n",
       "  <th>Time:</th>                 <td>16:12:37</td>     <th>  Log-Likelihood:    </th> <td> -3136.4</td> \n",
       "</tr>\n",
       "<tr>\n",
       "  <th>No. Observations:</th>      <td> 53797</td>      <th>  AIC:               </th> <td>   6279.</td> \n",
       "</tr>\n",
       "<tr>\n",
       "  <th>Df Residuals:</th>          <td> 53794</td>      <th>  BIC:               </th> <td>   6306.</td> \n",
       "</tr>\n",
       "<tr>\n",
       "  <th>Df Model:</th>              <td>     2</td>      <th>                     </th>     <td> </td>    \n",
       "</tr>\n",
       "<tr>\n",
       "  <th>Covariance Type:</th>      <td>nonrobust</td>    <th>                     </th>     <td> </td>    \n",
       "</tr>\n",
       "</table>\n",
       "<table class=\"simpletable\">\n",
       "<tr>\n",
       "        <td></td>           <th>coef</th>     <th>std err</th>      <th>t</th>      <th>P>|t|</th>  <th>[0.025</th>    <th>0.975]</th>  \n",
       "</tr>\n",
       "<tr>\n",
       "  <th>Intercept</th>     <td>    8.4182</td> <td>    0.002</td> <td> 5415.779</td> <td> 0.000</td> <td>    8.415</td> <td>    8.421</td>\n",
       "</tr>\n",
       "<tr>\n",
       "  <th>ideal[T.True]</th> <td>    0.1000</td> <td>    0.002</td> <td>   43.662</td> <td> 0.000</td> <td>    0.096</td> <td>    0.105</td>\n",
       "</tr>\n",
       "<tr>\n",
       "  <th>lcarat</th>        <td>    1.6963</td> <td>    0.002</td> <td>  878.286</td> <td> 0.000</td> <td>    1.692</td> <td>    1.700</td>\n",
       "</tr>\n",
       "</table>\n",
       "<table class=\"simpletable\">\n",
       "<tr>\n",
       "  <th>Omnibus:</th>       <td>794.680</td> <th>  Durbin-Watson:     </th> <td>   1.241</td> \n",
       "</tr>\n",
       "<tr>\n",
       "  <th>Prob(Omnibus):</th> <td> 0.000</td>  <th>  Jarque-Bera (JB):  </th> <td>1394.941</td> \n",
       "</tr>\n",
       "<tr>\n",
       "  <th>Skew:</th>          <td> 0.101</td>  <th>  Prob(JB):          </th> <td>1.24e-303</td>\n",
       "</tr>\n",
       "<tr>\n",
       "  <th>Kurtosis:</th>      <td> 3.763</td>  <th>  Cond. No.          </th> <td>    2.67</td> \n",
       "</tr>\n",
       "</table><br/><br/>Warnings:<br/>[1] Standard Errors assume that the covariance matrix of the errors is correctly specified."
      ],
      "text/plain": [
       "<class 'statsmodels.iolib.summary.Summary'>\n",
       "\"\"\"\n",
       "                            OLS Regression Results                            \n",
       "==============================================================================\n",
       "Dep. Variable:                 lprice   R-squared:                       0.936\n",
       "Model:                            OLS   Adj. R-squared:                  0.936\n",
       "Method:                 Least Squares   F-statistic:                 3.914e+05\n",
       "Date:                Tue, 24 Mar 2020   Prob (F-statistic):               0.00\n",
       "Time:                        16:12:37   Log-Likelihood:                -3136.4\n",
       "No. Observations:               53797   AIC:                             6279.\n",
       "Df Residuals:                   53794   BIC:                             6306.\n",
       "Df Model:                           2                                         \n",
       "Covariance Type:            nonrobust                                         \n",
       "=================================================================================\n",
       "                    coef    std err          t      P>|t|      [0.025      0.975]\n",
       "---------------------------------------------------------------------------------\n",
       "Intercept         8.4182      0.002   5415.779      0.000       8.415       8.421\n",
       "ideal[T.True]     0.1000      0.002     43.662      0.000       0.096       0.105\n",
       "lcarat            1.6963      0.002    878.286      0.000       1.692       1.700\n",
       "==============================================================================\n",
       "Omnibus:                      794.680   Durbin-Watson:                   1.241\n",
       "Prob(Omnibus):                  0.000   Jarque-Bera (JB):             1394.941\n",
       "Skew:                           0.101   Prob(JB):                    1.24e-303\n",
       "Kurtosis:                       3.763   Cond. No.                         2.67\n",
       "==============================================================================\n",
       "\n",
       "Warnings:\n",
       "[1] Standard Errors assume that the covariance matrix of the errors is correctly specified.\n",
       "\"\"\""
      ]
     },
     "execution_count": 25,
     "metadata": {},
     "output_type": "execute_result"
    }
   ],
   "source": [
    "sm_ols('lprice ~ lcarat + ideal + ideal',data=diamonds2).fit().summary()"
   ]
  },
  {
   "cell_type": "code",
   "execution_count": null,
   "metadata": {},
   "outputs": [],
   "source": []
  }
 ],
 "metadata": {
  "kernelspec": {
   "display_name": "Python 3",
   "language": "python",
   "name": "python3"
  },
  "language_info": {
   "codemirror_mode": {
    "name": "ipython",
    "version": 3
   },
   "file_extension": ".py",
   "mimetype": "text/x-python",
   "name": "python",
   "nbconvert_exporter": "python",
   "pygments_lexer": "ipython3",
   "version": "3.7.7"
  }
 },
 "nbformat": 4,
 "nbformat_minor": 2
}
