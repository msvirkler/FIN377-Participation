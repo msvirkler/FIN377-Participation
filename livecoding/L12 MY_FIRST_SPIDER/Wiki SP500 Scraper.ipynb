{
 "cells": [
  {
   "cell_type": "code",
   "execution_count": 14,
   "metadata": {},
   "outputs": [],
   "source": [
    "import pandas as pd\n",
    "import requests\n",
    "from requests_html import HTMLSession\n",
    "import os\n",
    "import re"
   ]
  },
  {
   "cell_type": "markdown",
   "metadata": {},
   "source": [
    "### Get URLS"
   ]
  },
  {
   "cell_type": "code",
   "execution_count": 15,
   "metadata": {},
   "outputs": [],
   "source": [
    " if not os.path.exists('input/SP500_Links.csv'):\n",
    "    \n",
    "    #Open Page\n",
    "    session = HTMLSession()\n",
    "    url = 'https://en.wikipedia.org/wiki/List_of_S%26P_500_companies'\n",
    "    r = session.get(url)\n",
    "\n",
    "    #Find Links\n",
    "    r.html.absolute_links\n",
    "    table = r.html.find('#constituents')[0]\n",
    "    table_rows = table.find('tr')[1:]\n",
    "    colinks = []\n",
    "    for row in table_rows:\n",
    "        a_url = list(row.find('td')[1].absolute_links)[0]\n",
    "        colinks.append(a_url)\n",
    "        \n",
    "    # Save List to csv\n",
    "\n",
    "    if not os.path.exists('input/'):\n",
    "        os.makedirs('input/')\n",
    "    pd.DataFrame(colinks).to_csv('input/SP500_Links.csv', index=False,header=False)\n",
    "\n",
    "else:\n",
    "    colinks = pd.read_csv('input/SP500_Links.csv',names=['firms'])['firms'].to_list()\n"
   ]
  },
  {
   "cell_type": "markdown",
   "metadata": {},
   "source": [
    "### Crawl URLS"
   ]
  },
  {
   "cell_type": "code",
   "execution_count": 16,
   "metadata": {},
   "outputs": [
    {
     "data": {
      "application/vnd.jupyter.widget-view+json": {
       "model_id": "c2cdaebc5fc0461ca9bad527ce86fa0e",
       "version_major": 2,
       "version_minor": 0
      },
      "text/plain": [
       "HBox(children=(FloatProgress(value=0.0, max=505.0), HTML(value='')))"
      ]
     },
     "metadata": {},
     "output_type": "display_data"
    },
    {
     "name": "stdout",
     "output_type": "stream",
     "text": [
      "\n"
     ]
    }
   ],
   "source": [
    "html = []\n",
    "from time import sleep\n",
    "from tqdm.notebook import tqdm\n",
    "\n",
    "\n",
    "\n",
    "for url in tqdm(colinks,total=len(colinks)):\n",
    "    folder = 'wiki_html/'\n",
    "    if not os.path.exists('wiki_html/'):\n",
    "        os.makedirs('wiki_html/')\n",
    "    name = re.sub(r'\\W+','',url.split('/')[-1])\n",
    "    filepath = folder + url.split('/')[-1] + '.txt'\n",
    "    \n",
    "    if not os.path.exists(filepath):\n",
    "        try:\n",
    "            r = session.get(url)\n",
    "        except:\n",
    "            print('Error :',url)\n",
    "        else:\n",
    "            with open(filepath,'w',encoding='utf8') as f:\n",
    "                f.write(r.text)\n",
    "            sleep(2)"
   ]
  },
  {
   "cell_type": "code",
   "execution_count": 6,
   "metadata": {},
   "outputs": [
    {
     "data": {
      "text/plain": [
       "'000000000000-08-2342523'"
      ]
     },
     "execution_count": 6,
     "metadata": {},
     "output_type": "execute_result"
    }
   ],
   "source": [
    "string = '/sfsdf/sfsdf/000000000000-08-2342523.txt'\n",
    "string.split('/')[-1].split('.')[0]\n"
   ]
  },
  {
   "cell_type": "code",
   "execution_count": null,
   "metadata": {},
   "outputs": [],
   "source": []
  }
 ],
 "metadata": {
  "kernelspec": {
   "display_name": "Python 3",
   "language": "python",
   "name": "python3"
  },
  "language_info": {
   "codemirror_mode": {
    "name": "ipython",
    "version": 3
   },
   "file_extension": ".py",
   "mimetype": "text/x-python",
   "name": "python",
   "nbconvert_exporter": "python",
   "pygments_lexer": "ipython3",
   "version": "3.7.4"
  }
 },
 "nbformat": 4,
 "nbformat_minor": 2
}
